{
  "nbformat": 4,
  "nbformat_minor": 0,
  "metadata": {
    "colab": {
      "provenance": [],
      "collapsed_sections": [
        "-LrS5ttLGr9Y",
        "tiXLhJgpIAbr"
      ]
    },
    "kernelspec": {
      "name": "python3",
      "display_name": "Python 3"
    },
    "language_info": {
      "name": "python"
    }
  },
  "cells": [
    {
      "cell_type": "markdown",
      "source": [
        "# Instruction of programming assignments for AMS 380: Data Mining\n",
        "\n"
      ],
      "metadata": {
        "id": "-LrS5ttLGr9Y"
      }
    },
    {
      "cell_type": "markdown",
      "source": [
        "We will use the Python programming language for all assignments in this course. Specifically, we will use a few popular libraries (numpy, matplotlib, math) for scientific computing.\n",
        "\n",
        "Python & Numpy Tutorial\n",
        "-----------------------\n",
        "- Official Python tutorial: https://docs.python.org/3/tutorial/\n",
        "- Official Numpy tutorial: https://numpy.org/doc/\n",
        "- Good tutorial sources: https://cs231n.github.io/python-numpy-tutorial/\n",
        "\n",
        "\n",
        "Dataset Descriptions\n",
        "--------------------\n",
        "We will use USPS dataset for this assignments. The USPS dataset is in the “data” folder: USPS.mat. The whole data has already been loaded into the matrix A. The matrix A contains all the images of size 16 × 16. Each of the 3000 rows in A corresponds to the image of one handwritten digit (between 0 and 9).\n",
        "\n",
        "\n",
        "Assignment Descriptions\n",
        "-----------------------\n",
        "There are total three blocks including 'Main', 'Solution' and 'Helper'. In this assignment, you only need to add your solution under 'Solution' file following the given instruction. However, you might need to read all the files to fully understand the requirement.\n",
        "\n",
        "The 'Helper' block includes all the helper functions for the assignments, like load data, show images, etc. The 'Main' block is used to test your solution.\n",
        "\n",
        "Notes: Do not change anything in 'Main' and 'Helper' blocks (except directory path: data_loc). Only try to add your code to 'Solution' block and keep function names and parameters unchanged.\n",
        "\n",
        "\n",
        "Helper functions\n",
        "----------------\n",
        "In this assignment, you may want to use following helper functions:\n",
        "- np.linalg.svd(): compute the singular value decomposition on a given matrix.\n",
        "- np.dot(): matrices multiplication operation.\n",
        "- np.mean(): compute the mean value on a given matrix.\n",
        "- np.ones(): generate a all '1' matrix with a certain shape.\n",
        "- np.transpose(): matrix transpose operation.\n",
        "- np.linalg.norm(): compute the norm value of a matrix. You may use it for the reconstruct_error function."
      ],
      "metadata": {
        "id": "TZUm0-WoGxt-"
      }
    },
    {
      "cell_type": "markdown",
      "source": [
        "# Helper"
      ],
      "metadata": {
        "id": "flLwpeTVHuBR"
      }
    },
    {
      "cell_type": "code",
      "source": [
        "import numpy as np\n",
        "import math\n",
        "import matplotlib.pyplot as plt\n",
        "import scipy.io as scio"
      ],
      "metadata": {
        "id": "LNvNadzBHxti"
      },
      "execution_count": 6,
      "outputs": []
    },
    {
      "cell_type": "code",
      "source": [
        "def load_data(dataloc):\n",
        "  data = scio.loadmat(dataloc)\n",
        "  return data['A']\n",
        "\n",
        "\n",
        "def show_images(data, p, i):\n",
        "    fig = plt.figure()\n",
        "    data = data\n",
        "    plt.title('Reconstructed image%d with %d component' % (i, p))\n",
        "    plt.imshow(data[i,:].reshape((16,16)))\n",
        "    fig.savefig('Reconstructed image%d with %d component'%(i,p))"
      ],
      "metadata": {
        "id": "GtF6TgA4HwKL"
      },
      "execution_count": 7,
      "outputs": []
    },
    {
      "cell_type": "markdown",
      "source": [
        "# Solution"
      ],
      "metadata": {
        "id": "Z_FPgtjhH3yF"
      }
    },
    {
      "cell_type": "code",
      "source": [
        "class PCA():\n",
        "    def __init__(self, X, n_components):\n",
        "        '''\n",
        "        Args:\n",
        "            X: The data matrix of shape [n_samples, n_features].\n",
        "            n_components: The number of principal components. A scaler number.\n",
        "        '''\n",
        "\n",
        "        self.n_components = n_components\n",
        "        self.X = X\n",
        "        self.Up, self.Xp = self._do_pca()\n",
        "\n",
        "\n",
        "    def _do_pca(self):\n",
        "        '''\n",
        "        To do PCA decomposition.\n",
        "        Returns:\n",
        "            Up: Principal components (transform matrix) of shape [n_features, n_components].\n",
        "            Xp: The reduced data matrix after PCA of shape [n_samples, n_components].\n",
        "        '''\n",
        "        ### YOUR CODE HERE\n",
        "\n",
        "        n_samples, n_features = self.X.shape\n",
        "\n",
        "        # Get X_centered = X[i] - X_bar\n",
        "        X_bar = np.mean(self.X, axis=0)\n",
        "\n",
        "        X_centered = np.empty((self.X.shape))\n",
        "        for i in range(n_samples):\n",
        "          X_centered[i] = self.X[i] - X_bar\n",
        "\n",
        "        X_centered = X_centered.T  # ---> Do transpose because shape should be (p, n) and do SDV. With (n, p), U in SDV is different\n",
        "\n",
        "        # Get matrix U in SDV of X_centered, and take k columns to be Up(transform matrix), shape = [p, k]\n",
        "        U, D, V = np.linalg.svd(X_centered)\n",
        "        Up = U[:,:self.n_components] # [n_features, n_components]\n",
        "\n",
        "        # Xp = Up.T * X_centered\n",
        "        Xp = np.dot(Up.T, X_centered).T # [n_components, n_samples] ---> [n_samples, n_components]\n",
        "\n",
        "        return Up, Xp\n",
        "\n",
        "        ### END YOUR CODE\n",
        "\n",
        "    def get_reduced(self, X=None):\n",
        "        '''\n",
        "        To return the reduced data matrix.\n",
        "        Args:\n",
        "            X: The data matrix with shape [n_any, n_features] or None.\n",
        "               If None, return reduced training X.\n",
        "        Returns:\n",
        "            Xp: The reduced data matrix of shape [n_any, n_components].\n",
        "        '''\n",
        "        if X is None:\n",
        "            return self.Xp\n",
        "        else:\n",
        "            return X@self.Up\n",
        "\n",
        "    def reconstruction(self, Xp):\n",
        "        '''\n",
        "        To reconstruct reduced data given principal components Up.\n",
        "\n",
        "        Args:\n",
        "        Xp: The reduced data matrix after PCA of shape [n_samples, n_components].\n",
        "\n",
        "        Return:\n",
        "        X_re: The reconstructed matrix of shape [n_samples, n_features].\n",
        "        '''\n",
        "        ### YOUR CODE HERE\n",
        "\n",
        "        n_samples, n_features = self.X.shape\n",
        "        X_bar = np.zeros((n_features,))\n",
        "        for i in range(n_samples):\n",
        "          X_bar += self.X[i] / n_samples\n",
        "\n",
        "\n",
        "        re_X_centered = np.dot(self.Up, Xp.T)\n",
        "\n",
        "\n",
        "        X_re = np.empty((re_X_centered.shape))\n",
        "\n",
        "        row, col = X_re.shape\n",
        "        for i in range(col):\n",
        "          X_re[:,i] = re_X_centered[:,i] + X_bar\n",
        "\n",
        "        X_re = X_re.T # [n_features, n_samples] --->[n_samples, n_features]\n",
        "\n",
        "        return X_re\n",
        "\n",
        "        ### END YOUR CODE\n",
        "\n",
        "\n",
        "def reconstruct_error(A, B):\n",
        "    '''\n",
        "    To compute the reconstruction error.\n",
        "\n",
        "    Args:\n",
        "    A & B: Two matrices needed to be compared with. Should be of same shape.\n",
        "\n",
        "    Return:\n",
        "    error: the Frobenius norm's square of the matrix A-B. A scaler number.\n",
        "    '''\n",
        "    ### YOUR CODE HERE\n",
        "\n",
        "    return \"Error:\", np.linalg.norm(A - B, 'fro')\n",
        "\n",
        "    ### END YOUR CODE\n"
      ],
      "metadata": {
        "id": "96iauqTWH8HX"
      },
      "execution_count": 8,
      "outputs": []
    },
    {
      "cell_type": "markdown",
      "source": [
        "# Main"
      ],
      "metadata": {
        "id": "tiXLhJgpIAbr"
      }
    },
    {
      "cell_type": "code",
      "source": [
        "def test_pca():\n",
        "    dataloc = \"../data/USPS.mat\"\n",
        "    A = load_data(dataloc)\n",
        "    ks = [10, 50, 100, 200]\n",
        "    for k in ks:\n",
        "      pca = PCA(A, k)\n",
        "      Ak = pca.get_reduced()\n",
        "      A_re = pca.reconstruction(Ak)\n",
        "      error = reconstruct_error(A, A_re)\n",
        "      print(error)\n",
        "      show_images(A_re, k, 0)\n",
        "      show_images(A_re, k, 1)\n",
        "\n",
        "if __name__ == '__main__':\n",
        "\ttest_pca()"
      ],
      "metadata": {
        "id": "AXejRLslH_oL",
        "colab": {
          "base_uri": "https://localhost:8080/",
          "height": 418
        },
        "outputId": "55cf7649-6438-41dc-c4a7-782a82778073"
      },
      "execution_count": 9,
      "outputs": [
        {
          "output_type": "error",
          "ename": "FileNotFoundError",
          "evalue": "[Errno 2] No such file or directory: '../data/USPS.mat'",
          "traceback": [
            "\u001b[0;31m---------------------------------------------------------------------------\u001b[0m",
            "\u001b[0;31mFileNotFoundError\u001b[0m                         Traceback (most recent call last)",
            "\u001b[0;32m/usr/local/lib/python3.10/dist-packages/scipy/io/matlab/_mio.py\u001b[0m in \u001b[0;36m_open_file\u001b[0;34m(file_like, appendmat, mode)\u001b[0m\n\u001b[1;32m     38\u001b[0m     \u001b[0;32mtry\u001b[0m\u001b[0;34m:\u001b[0m\u001b[0;34m\u001b[0m\u001b[0;34m\u001b[0m\u001b[0m\n\u001b[0;32m---> 39\u001b[0;31m         \u001b[0;32mreturn\u001b[0m \u001b[0mopen\u001b[0m\u001b[0;34m(\u001b[0m\u001b[0mfile_like\u001b[0m\u001b[0;34m,\u001b[0m \u001b[0mmode\u001b[0m\u001b[0;34m)\u001b[0m\u001b[0;34m,\u001b[0m \u001b[0;32mTrue\u001b[0m\u001b[0;34m\u001b[0m\u001b[0;34m\u001b[0m\u001b[0m\n\u001b[0m\u001b[1;32m     40\u001b[0m     \u001b[0;32mexcept\u001b[0m \u001b[0mOSError\u001b[0m \u001b[0;32mas\u001b[0m \u001b[0me\u001b[0m\u001b[0;34m:\u001b[0m\u001b[0;34m\u001b[0m\u001b[0;34m\u001b[0m\u001b[0m\n",
            "\u001b[0;31mFileNotFoundError\u001b[0m: [Errno 2] No such file or directory: '../data/USPS.mat'",
            "\nDuring handling of the above exception, another exception occurred:\n",
            "\u001b[0;31mFileNotFoundError\u001b[0m                         Traceback (most recent call last)",
            "\u001b[0;32m<ipython-input-9-d5d13334418d>\u001b[0m in \u001b[0;36m<cell line: 14>\u001b[0;34m()\u001b[0m\n\u001b[1;32m     13\u001b[0m \u001b[0;34m\u001b[0m\u001b[0m\n\u001b[1;32m     14\u001b[0m \u001b[0;32mif\u001b[0m \u001b[0m__name__\u001b[0m \u001b[0;34m==\u001b[0m \u001b[0;34m'__main__'\u001b[0m\u001b[0;34m:\u001b[0m\u001b[0;34m\u001b[0m\u001b[0;34m\u001b[0m\u001b[0m\n\u001b[0;32m---> 15\u001b[0;31m         \u001b[0mtest_pca\u001b[0m\u001b[0;34m(\u001b[0m\u001b[0;34m)\u001b[0m\u001b[0;34m\u001b[0m\u001b[0;34m\u001b[0m\u001b[0m\n\u001b[0m",
            "\u001b[0;32m<ipython-input-9-d5d13334418d>\u001b[0m in \u001b[0;36mtest_pca\u001b[0;34m()\u001b[0m\n\u001b[1;32m      1\u001b[0m \u001b[0;32mdef\u001b[0m \u001b[0mtest_pca\u001b[0m\u001b[0;34m(\u001b[0m\u001b[0;34m)\u001b[0m\u001b[0;34m:\u001b[0m\u001b[0;34m\u001b[0m\u001b[0;34m\u001b[0m\u001b[0m\n\u001b[1;32m      2\u001b[0m     \u001b[0mdataloc\u001b[0m \u001b[0;34m=\u001b[0m \u001b[0;34m\"../data/USPS.mat\"\u001b[0m\u001b[0;34m\u001b[0m\u001b[0;34m\u001b[0m\u001b[0m\n\u001b[0;32m----> 3\u001b[0;31m     \u001b[0mA\u001b[0m \u001b[0;34m=\u001b[0m \u001b[0mload_data\u001b[0m\u001b[0;34m(\u001b[0m\u001b[0mdataloc\u001b[0m\u001b[0;34m)\u001b[0m\u001b[0;34m\u001b[0m\u001b[0;34m\u001b[0m\u001b[0m\n\u001b[0m\u001b[1;32m      4\u001b[0m     \u001b[0mks\u001b[0m \u001b[0;34m=\u001b[0m \u001b[0;34m[\u001b[0m\u001b[0;36m10\u001b[0m\u001b[0;34m,\u001b[0m \u001b[0;36m50\u001b[0m\u001b[0;34m,\u001b[0m \u001b[0;36m100\u001b[0m\u001b[0;34m,\u001b[0m \u001b[0;36m200\u001b[0m\u001b[0;34m]\u001b[0m\u001b[0;34m\u001b[0m\u001b[0;34m\u001b[0m\u001b[0m\n\u001b[1;32m      5\u001b[0m     \u001b[0;32mfor\u001b[0m \u001b[0mk\u001b[0m \u001b[0;32min\u001b[0m \u001b[0mks\u001b[0m\u001b[0;34m:\u001b[0m\u001b[0;34m\u001b[0m\u001b[0;34m\u001b[0m\u001b[0m\n",
            "\u001b[0;32m<ipython-input-7-b3d13724b0b2>\u001b[0m in \u001b[0;36mload_data\u001b[0;34m(dataloc)\u001b[0m\n\u001b[1;32m      1\u001b[0m \u001b[0;32mdef\u001b[0m \u001b[0mload_data\u001b[0m\u001b[0;34m(\u001b[0m\u001b[0mdataloc\u001b[0m\u001b[0;34m)\u001b[0m\u001b[0;34m:\u001b[0m\u001b[0;34m\u001b[0m\u001b[0;34m\u001b[0m\u001b[0m\n\u001b[0;32m----> 2\u001b[0;31m   \u001b[0mdata\u001b[0m \u001b[0;34m=\u001b[0m \u001b[0mscio\u001b[0m\u001b[0;34m.\u001b[0m\u001b[0mloadmat\u001b[0m\u001b[0;34m(\u001b[0m\u001b[0mdataloc\u001b[0m\u001b[0;34m)\u001b[0m\u001b[0;34m\u001b[0m\u001b[0;34m\u001b[0m\u001b[0m\n\u001b[0m\u001b[1;32m      3\u001b[0m   \u001b[0;32mreturn\u001b[0m \u001b[0mdata\u001b[0m\u001b[0;34m[\u001b[0m\u001b[0;34m'A'\u001b[0m\u001b[0;34m]\u001b[0m\u001b[0;34m\u001b[0m\u001b[0;34m\u001b[0m\u001b[0m\n\u001b[1;32m      4\u001b[0m \u001b[0;34m\u001b[0m\u001b[0m\n\u001b[1;32m      5\u001b[0m \u001b[0;34m\u001b[0m\u001b[0m\n",
            "\u001b[0;32m/usr/local/lib/python3.10/dist-packages/scipy/io/matlab/_mio.py\u001b[0m in \u001b[0;36mloadmat\u001b[0;34m(file_name, mdict, appendmat, **kwargs)\u001b[0m\n\u001b[1;32m    223\u001b[0m     \"\"\"\n\u001b[1;32m    224\u001b[0m     \u001b[0mvariable_names\u001b[0m \u001b[0;34m=\u001b[0m \u001b[0mkwargs\u001b[0m\u001b[0;34m.\u001b[0m\u001b[0mpop\u001b[0m\u001b[0;34m(\u001b[0m\u001b[0;34m'variable_names'\u001b[0m\u001b[0;34m,\u001b[0m \u001b[0;32mNone\u001b[0m\u001b[0;34m)\u001b[0m\u001b[0;34m\u001b[0m\u001b[0;34m\u001b[0m\u001b[0m\n\u001b[0;32m--> 225\u001b[0;31m     \u001b[0;32mwith\u001b[0m \u001b[0m_open_file_context\u001b[0m\u001b[0;34m(\u001b[0m\u001b[0mfile_name\u001b[0m\u001b[0;34m,\u001b[0m \u001b[0mappendmat\u001b[0m\u001b[0;34m)\u001b[0m \u001b[0;32mas\u001b[0m \u001b[0mf\u001b[0m\u001b[0;34m:\u001b[0m\u001b[0;34m\u001b[0m\u001b[0;34m\u001b[0m\u001b[0m\n\u001b[0m\u001b[1;32m    226\u001b[0m         \u001b[0mMR\u001b[0m\u001b[0;34m,\u001b[0m \u001b[0m_\u001b[0m \u001b[0;34m=\u001b[0m \u001b[0mmat_reader_factory\u001b[0m\u001b[0;34m(\u001b[0m\u001b[0mf\u001b[0m\u001b[0;34m,\u001b[0m \u001b[0;34m**\u001b[0m\u001b[0mkwargs\u001b[0m\u001b[0;34m)\u001b[0m\u001b[0;34m\u001b[0m\u001b[0;34m\u001b[0m\u001b[0m\n\u001b[1;32m    227\u001b[0m         \u001b[0mmatfile_dict\u001b[0m \u001b[0;34m=\u001b[0m \u001b[0mMR\u001b[0m\u001b[0;34m.\u001b[0m\u001b[0mget_variables\u001b[0m\u001b[0;34m(\u001b[0m\u001b[0mvariable_names\u001b[0m\u001b[0;34m)\u001b[0m\u001b[0;34m\u001b[0m\u001b[0;34m\u001b[0m\u001b[0m\n",
            "\u001b[0;32m/usr/lib/python3.10/contextlib.py\u001b[0m in \u001b[0;36m__enter__\u001b[0;34m(self)\u001b[0m\n\u001b[1;32m    133\u001b[0m         \u001b[0;32mdel\u001b[0m \u001b[0mself\u001b[0m\u001b[0;34m.\u001b[0m\u001b[0margs\u001b[0m\u001b[0;34m,\u001b[0m \u001b[0mself\u001b[0m\u001b[0;34m.\u001b[0m\u001b[0mkwds\u001b[0m\u001b[0;34m,\u001b[0m \u001b[0mself\u001b[0m\u001b[0;34m.\u001b[0m\u001b[0mfunc\u001b[0m\u001b[0;34m\u001b[0m\u001b[0;34m\u001b[0m\u001b[0m\n\u001b[1;32m    134\u001b[0m         \u001b[0;32mtry\u001b[0m\u001b[0;34m:\u001b[0m\u001b[0;34m\u001b[0m\u001b[0;34m\u001b[0m\u001b[0m\n\u001b[0;32m--> 135\u001b[0;31m             \u001b[0;32mreturn\u001b[0m \u001b[0mnext\u001b[0m\u001b[0;34m(\u001b[0m\u001b[0mself\u001b[0m\u001b[0;34m.\u001b[0m\u001b[0mgen\u001b[0m\u001b[0;34m)\u001b[0m\u001b[0;34m\u001b[0m\u001b[0;34m\u001b[0m\u001b[0m\n\u001b[0m\u001b[1;32m    136\u001b[0m         \u001b[0;32mexcept\u001b[0m \u001b[0mStopIteration\u001b[0m\u001b[0;34m:\u001b[0m\u001b[0;34m\u001b[0m\u001b[0;34m\u001b[0m\u001b[0m\n\u001b[1;32m    137\u001b[0m             \u001b[0;32mraise\u001b[0m \u001b[0mRuntimeError\u001b[0m\u001b[0;34m(\u001b[0m\u001b[0;34m\"generator didn't yield\"\u001b[0m\u001b[0;34m)\u001b[0m \u001b[0;32mfrom\u001b[0m \u001b[0;32mNone\u001b[0m\u001b[0;34m\u001b[0m\u001b[0;34m\u001b[0m\u001b[0m\n",
            "\u001b[0;32m/usr/local/lib/python3.10/dist-packages/scipy/io/matlab/_mio.py\u001b[0m in \u001b[0;36m_open_file_context\u001b[0;34m(file_like, appendmat, mode)\u001b[0m\n\u001b[1;32m     15\u001b[0m \u001b[0;34m@\u001b[0m\u001b[0mcontextmanager\u001b[0m\u001b[0;34m\u001b[0m\u001b[0;34m\u001b[0m\u001b[0m\n\u001b[1;32m     16\u001b[0m \u001b[0;32mdef\u001b[0m \u001b[0m_open_file_context\u001b[0m\u001b[0;34m(\u001b[0m\u001b[0mfile_like\u001b[0m\u001b[0;34m,\u001b[0m \u001b[0mappendmat\u001b[0m\u001b[0;34m,\u001b[0m \u001b[0mmode\u001b[0m\u001b[0;34m=\u001b[0m\u001b[0;34m'rb'\u001b[0m\u001b[0;34m)\u001b[0m\u001b[0;34m:\u001b[0m\u001b[0;34m\u001b[0m\u001b[0;34m\u001b[0m\u001b[0m\n\u001b[0;32m---> 17\u001b[0;31m     \u001b[0mf\u001b[0m\u001b[0;34m,\u001b[0m \u001b[0mopened\u001b[0m \u001b[0;34m=\u001b[0m \u001b[0m_open_file\u001b[0m\u001b[0;34m(\u001b[0m\u001b[0mfile_like\u001b[0m\u001b[0;34m,\u001b[0m \u001b[0mappendmat\u001b[0m\u001b[0;34m,\u001b[0m \u001b[0mmode\u001b[0m\u001b[0;34m)\u001b[0m\u001b[0;34m\u001b[0m\u001b[0;34m\u001b[0m\u001b[0m\n\u001b[0m\u001b[1;32m     18\u001b[0m     \u001b[0;32mtry\u001b[0m\u001b[0;34m:\u001b[0m\u001b[0;34m\u001b[0m\u001b[0;34m\u001b[0m\u001b[0m\n\u001b[1;32m     19\u001b[0m         \u001b[0;32myield\u001b[0m \u001b[0mf\u001b[0m\u001b[0;34m\u001b[0m\u001b[0;34m\u001b[0m\u001b[0m\n",
            "\u001b[0;32m/usr/local/lib/python3.10/dist-packages/scipy/io/matlab/_mio.py\u001b[0m in \u001b[0;36m_open_file\u001b[0;34m(file_like, appendmat, mode)\u001b[0m\n\u001b[1;32m     43\u001b[0m             \u001b[0;32mif\u001b[0m \u001b[0mappendmat\u001b[0m \u001b[0;32mand\u001b[0m \u001b[0;32mnot\u001b[0m \u001b[0mfile_like\u001b[0m\u001b[0;34m.\u001b[0m\u001b[0mendswith\u001b[0m\u001b[0;34m(\u001b[0m\u001b[0;34m'.mat'\u001b[0m\u001b[0;34m)\u001b[0m\u001b[0;34m:\u001b[0m\u001b[0;34m\u001b[0m\u001b[0;34m\u001b[0m\u001b[0m\n\u001b[1;32m     44\u001b[0m                 \u001b[0mfile_like\u001b[0m \u001b[0;34m+=\u001b[0m \u001b[0;34m'.mat'\u001b[0m\u001b[0;34m\u001b[0m\u001b[0;34m\u001b[0m\u001b[0m\n\u001b[0;32m---> 45\u001b[0;31m             \u001b[0;32mreturn\u001b[0m \u001b[0mopen\u001b[0m\u001b[0;34m(\u001b[0m\u001b[0mfile_like\u001b[0m\u001b[0;34m,\u001b[0m \u001b[0mmode\u001b[0m\u001b[0;34m)\u001b[0m\u001b[0;34m,\u001b[0m \u001b[0;32mTrue\u001b[0m\u001b[0;34m\u001b[0m\u001b[0;34m\u001b[0m\u001b[0m\n\u001b[0m\u001b[1;32m     46\u001b[0m         \u001b[0;32melse\u001b[0m\u001b[0;34m:\u001b[0m\u001b[0;34m\u001b[0m\u001b[0;34m\u001b[0m\u001b[0m\n\u001b[1;32m     47\u001b[0m             raise OSError(\n",
            "\u001b[0;31mFileNotFoundError\u001b[0m: [Errno 2] No such file or directory: '../data/USPS.mat'"
          ]
        }
      ]
    },
    {
      "cell_type": "code",
      "source": [],
      "metadata": {
        "id": "Q2XvFKPT0M_L"
      },
      "execution_count": null,
      "outputs": []
    }
  ]
}